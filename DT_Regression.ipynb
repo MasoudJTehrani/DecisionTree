{
  "nbformat": 4,
  "nbformat_minor": 0,
  "metadata": {
    "colab": {
      "name": "ML_HW2_P2.ipynb",
      "provenance": [],
      "collapsed_sections": [],
      "toc_visible": true
    },
    "kernelspec": {
      "name": "python3",
      "display_name": "Python 3"
    }
  },
  "cells": [
    {
      "cell_type": "markdown",
      "metadata": {
        "id": "37puETfgRzzg"
      },
      "source": [
        "# Data Preprocessing"
      ]
    },
    {
      "cell_type": "markdown",
      "metadata": {
        "id": "EoRP98MpR-qj"
      },
      "source": [
        "## Importing the libraries"
      ]
    },
    {
      "cell_type": "code",
      "metadata": {
        "id": "N-qiINBQSK2g"
      },
      "source": [
        "import numpy as np\n",
        "import pandas as pd\n",
        "from pprint import pprint\n",
        "import matplotlib.pyplot as plt\n",
        "from matplotlib import style\n",
        "style.use(\"fivethirtyeight\")"
      ],
      "execution_count": 3,
      "outputs": []
    },
    {
      "cell_type": "markdown",
      "metadata": {
        "id": "RopL7tUZSQkT"
      },
      "source": [
        "## Importing the dataset"
      ]
    },
    {
      "cell_type": "code",
      "metadata": {
        "id": "WwEPNDWySTKm"
      },
      "source": [
        "dataset1 = pd.read_csv('EnjoySport.txt', header=None, sep=\"\\t\")\n",
        "dataset2 = pd.read_csv('Automobile2.txt', header=None, sep=\"\\t\")\n",
        "\n",
        "#df = pd.read_csv('Automobile.txt', header=None, sep='\\n')\n",
        "#df = df[0].str.split('\\t', expand=True)\n",
        "#df.iloc[:, :12].to_csv(\"Automobile2.txt\",sep=\"\\t\",header=False,index=False)"
      ],
      "execution_count": 4,
      "outputs": []
    },
    {
      "cell_type": "code",
      "metadata": {
        "id": "hCsz2yCebe1R",
        "colab": {
          "base_uri": "https://localhost:8080/"
        },
        "outputId": "3ead07b3-7dd3-4959-be4d-d83b6bc41c3b"
      },
      "source": [
        "print(dataset1, \"\\n\")\n",
        "print(dataset2)"
      ],
      "execution_count": 5,
      "outputs": [
        {
          "output_type": "stream",
          "text": [
            "           0     1       2      3   4\n",
            "0      Rainy   Hot    High  False  25\n",
            "1      Rainy   Hot    High   True  30\n",
            "2   Overcast   Hot    High  False  46\n",
            "3      Sunny  Mild    High  False  45\n",
            "4      Sunny  Cool  Normal  False  52\n",
            "5      Sunny  Cool  Normal   True  23\n",
            "6   Overcast  Cool  Normal   True  43\n",
            "7      Rainy  Mild    High  False  35\n",
            "8      Rainy  Cool  Normal  False  38\n",
            "9      Sunny  Mild  Normal  False  46\n",
            "10     Rainy  Mild  Normal   True  48\n",
            "11  Overcast  Mild    High   True  52\n",
            "12  Overcast   Hot  Normal  False  44\n",
            "13     Sunny  Mild    High   True  30 \n",
            "\n",
            "     0            1       2      3     4   ...     7     8     9     10     11\n",
            "0     3  alfa-romero     gas    std   two  ...  front  dohc  four  mpfi  13495\n",
            "1     3  alfa-romero     gas    std   two  ...  front  dohc  four  mpfi  16500\n",
            "2     1  alfa-romero     gas    std   two  ...  front  ohcv   six  mpfi  16500\n",
            "3     2         audi     gas    std  four  ...  front   ohc  four  mpfi  13950\n",
            "4     2         audi     gas    std  four  ...  front   ohc  five  mpfi  17450\n",
            "..   ..          ...     ...    ...   ...  ...    ...   ...   ...   ...    ...\n",
            "194  -1        volvo     gas    std  four  ...  front   ohc  four  mpfi  16845\n",
            "195  -1        volvo     gas  turbo  four  ...  front   ohc  four  mpfi  19045\n",
            "196  -1        volvo     gas    std  four  ...  front  ohcv   six  mpfi  21485\n",
            "197  -1        volvo  diesel  turbo  four  ...  front   ohc   six   idi  22470\n",
            "198  -1        volvo     gas  turbo  four  ...  front   ohc  four  mpfi  22625\n",
            "\n",
            "[199 rows x 12 columns]\n"
          ],
          "name": "stdout"
        }
      ]
    },
    {
      "cell_type": "markdown",
      "metadata": {
        "id": "qb_vcgm3qZKW"
      },
      "source": [
        "## Splitting the dataset into the Training set and Test set"
      ]
    },
    {
      "cell_type": "code",
      "metadata": {
        "id": "pXgA6CzlqbCl",
        "colab": {
          "base_uri": "https://localhost:8080/"
        },
        "outputId": "64e8959a-945d-43c9-ae3e-6737d2e4e434"
      },
      "source": [
        "from sklearn.model_selection import train_test_split\n",
        "X_train, X_test, y_train, y_test = train_test_split(dataset1.iloc[:, :-1], dataset1.iloc[:, -1], test_size = 0.3, shuffle=True)\n",
        "\n",
        "train_data = pd.concat([X_train, y_train], axis =1)\n",
        "test_data = pd.concat([X_test, y_test], axis =1)\n",
        "\n",
        "print(train_data, '\\n')\n",
        "print(test_data)"
      ],
      "execution_count": 6,
      "outputs": [
        {
          "output_type": "stream",
          "text": [
            "           0     1       2      3   4\n",
            "7      Rainy  Mild    High  False  35\n",
            "13     Sunny  Mild    High   True  30\n",
            "8      Rainy  Cool  Normal  False  38\n",
            "4      Sunny  Cool  Normal  False  52\n",
            "11  Overcast  Mild    High   True  52\n",
            "10     Rainy  Mild  Normal   True  48\n",
            "5      Sunny  Cool  Normal   True  23\n",
            "0      Rainy   Hot    High  False  25\n",
            "2   Overcast   Hot    High  False  46 \n",
            "\n",
            "           0     1       2      3   4\n",
            "12  Overcast   Hot  Normal  False  44\n",
            "1      Rainy   Hot    High   True  30\n",
            "9      Sunny  Mild  Normal  False  46\n",
            "6   Overcast  Cool  Normal   True  43\n",
            "3      Sunny  Mild    High  False  45\n"
          ],
          "name": "stdout"
        }
      ]
    },
    {
      "cell_type": "markdown",
      "metadata": {
        "id": "TpGqbS4TqkIR"
      },
      "source": [
        "## Functions"
      ]
    },
    {
      "cell_type": "code",
      "metadata": {
        "id": "AxjSUXFQqo-3"
      },
      "source": [
        "def STD(target_col):\n",
        "  \n",
        "    #Calculate the STD of a dataset.\n",
        "    return np.std(target_col)"
      ],
      "execution_count": 7,
      "outputs": []
    },
    {
      "cell_type": "code",
      "metadata": {
        "id": "zWe_-UoZJei_",
        "colab": {
          "base_uri": "https://localhost:8080/"
        },
        "outputId": "55a9d162-7444-46fe-d826-3728f8707cd8"
      },
      "source": [
        "print(STD(dataset1.iloc[:,-1]))\n",
        "print(STD(dataset2.iloc[:,-1]))"
      ],
      "execution_count": 8,
      "outputs": [
        {
          "output_type": "stream",
          "text": [
            "9.321086474291743\n",
            "7958.27351709494\n"
          ],
          "name": "stdout"
        }
      ]
    },
    {
      "cell_type": "code",
      "metadata": {
        "colab": {
          "base_uri": "https://localhost:8080/"
        },
        "id": "TvmiL9N5KDk0",
        "outputId": "12d4df28-d6d0-464d-e6a8-0e27e114e487"
      },
      "source": [
        "print(STD([46,43,52,44]))"
      ],
      "execution_count": 9,
      "outputs": [
        {
          "output_type": "stream",
          "text": [
            "3.491060010942235\n"
          ],
          "name": "stdout"
        }
      ]
    },
    {
      "cell_type": "code",
      "metadata": {
        "id": "86LdpTZKIaNV"
      },
      "source": [
        "def STDR(data, split_attribute_index, label_index = -1):\n",
        "    \"\"\"\n",
        "    Calculate the information gain of a dataset. This function takes three parameters:\n",
        "    1. data = The dataset for whose feature the IG should be calculated\n",
        "    2. split_attribute_index = the index of the feature for which the information gain should be calculated\n",
        "    3. label_index = label_index of the target feature.\n",
        "    \"\"\"    \n",
        "    #Calculate the entropy of the total dataset\n",
        "    total_STD = STD(data.iloc[:,label_index])\n",
        "    \n",
        "    ##Calculate the entropy of the dataset\n",
        "    \n",
        "    #Calculate the values and the corresponding counts for the split attribute \n",
        "    vals,counts= np.unique(data[split_attribute_index],return_counts=True)\n",
        "\n",
        "    #Calculate the weighted entropy\n",
        "    Weighted_STD = np.sum([(counts[i]/np.sum(counts))*STD(data.where(data[split_attribute_index]==vals[i]).dropna().iloc[:,label_index]) for i in range(len(vals))])\n",
        "    \n",
        "    #Calculate the information gain\n",
        "    STDR = total_STD - Weighted_STD\n",
        "    return STDR"
      ],
      "execution_count": 10,
      "outputs": []
    },
    {
      "cell_type": "code",
      "metadata": {
        "colab": {
          "base_uri": "https://localhost:8080/"
        },
        "id": "6-BX6ySFQ-ad",
        "outputId": "37f30121-6896-457b-ebfe-b28416b6d96e"
      },
      "source": [
        "print(STDR(dataset1, 0))\n",
        "print(STDR(dataset1, 1))\n",
        "print(STDR(dataset1, 2))\n",
        "print(STDR(dataset1, 3))\n",
        "print(STDR(dataset2, 3))"
      ],
      "execution_count": 11,
      "outputs": [
        {
          "output_type": "stream",
          "text": [
            "1.6621503366302335\n",
            "0.4796905747633211\n",
            "0.272296195489826\n",
            "0.28214938055733185\n",
            "182.69085178731984\n"
          ],
          "name": "stdout"
        }
      ]
    },
    {
      "cell_type": "code",
      "metadata": {
        "id": "C1rg-vxoIdre"
      },
      "source": [
        "def ID3(data, originaldata, features, min_samples, min_CV, label_index = -1, parent_node_class = None):\n",
        "    \"\"\"\n",
        "    ID3 Algorithm: This function takes five paramters:\n",
        "    1. data = the data for which the ID3 algorithm should be run --> In the first run this equals the total dataset\n",
        " \n",
        "    2. originaldata = This is the original dataset needed to calculate the mode target feature value of the original dataset\n",
        "    in the case the dataset delivered by the first parameter is empty\n",
        "\n",
        "    3. features = the feature space of the dataset . This is needed for the recursive call since during the tree growing process\n",
        "    we have to remove features from our dataset --> Splitting at each node\n",
        "\n",
        "    4. label_index = the index of the target attribute\n",
        "\n",
        "    5. parent_node_class = This is the value or class of the mode target feature value of the parent node for a specific node. This is \n",
        "    also needed for the recursive call since if the splitting leads to a situation that there are no more features left in the feature\n",
        "    space, we want to return the mode target feature value of the direct parent node.\n",
        "    \"\"\"   \n",
        "    #Define the stopping criteria --> If one of this is satisfied, we want to return a leaf node#\n",
        "\n",
        "    #If the dataset is empty, return the mean target feature value in the original dataset\n",
        "    if len(data)==0:\n",
        "        return np.mean(originaldata.iloc[:,label_index])\n",
        "    \n",
        "    #If all target_values have the same value, return the mean value of the target feature for this dataset\n",
        "    elif len(data) <= min_samples or (STD(data.iloc[:,label_index]) / np.mean(data.iloc[:,label_index]) * 100) < min_CV:\n",
        "        return np.mean(data.iloc[:,label_index])\n",
        "    #######################################################\n",
        "\n",
        "    #If the feature space is empty, return the mode target feature value of the direct parent node --> Note that\n",
        "    #the direct parent node is that node which has called the current run of the ID3 algorithm and hence\n",
        "    #the mode target feature value is stored in the parent_node_class variable.\n",
        "    \n",
        "    elif len(features) ==0:\n",
        "        return parent_node_class\n",
        "    \n",
        "    #If none of the above holds true, grow the tree!\n",
        "    \n",
        "    else:\n",
        "        #Set the default value for this node --> The mode target feature value of the current node\n",
        "        parent_node_class = np.mean(data.iloc[:,label_index])\n",
        "        \n",
        "        #Select the feature which best splits the dataset\n",
        "        item_values = [STDR(data,feature,label_index) for feature in features] #Return the STDR values for the features in the dataset\n",
        "        best_feature_index = np.argmax(item_values)\n",
        "        best_feature = features[best_feature_index]\n",
        "        \n",
        "        #Create the tree structure. The root gets the name of the feature (best_feature) with the maximum information\n",
        "        #gain in the first run\n",
        "        tree = {best_feature:{}}\n",
        "        \n",
        "        \n",
        "        #Remove the feature with the best inforamtion gain from the feature space\n",
        "        features = [i for i in features if i != best_feature]\n",
        "        \n",
        "        #Grow a branch under the root node for each possible value of the root node feature\n",
        "        \n",
        "        for value in np.unique(data[best_feature]):\n",
        "            value = value\n",
        "            #Split the dataset along the value of the feature with the largest information gain and therwith create sub_datasets\n",
        "            sub_data = data.where(data[best_feature] == value).dropna()\n",
        "            \n",
        "            #Call the ID3 algorithm for each of those sub_datasets with the new parameters --> Here the recursion comes in!\n",
        "            subtree = ID3(sub_data,originaldata,features, min_samples, min_CV, label_index,parent_node_class)\n",
        "            \n",
        "            #Add the sub tree, grown from the sub_dataset to the tree under the root node\n",
        "            tree[best_feature][value] = subtree\n",
        "            \n",
        "        return(tree)"
      ],
      "execution_count": 12,
      "outputs": []
    },
    {
      "cell_type": "code",
      "metadata": {
        "id": "UQdYRcu60vhs"
      },
      "source": [
        "def predict(query,tree,default):   \n",
        "    \n",
        "    #1.\n",
        "    for key in list(query.keys()):\n",
        "        if key in list(tree.keys()):\n",
        "            #2.\n",
        "            try:\n",
        "                result = tree[key][query[key]] \n",
        "            except:\n",
        "                return default\n",
        "  \n",
        "            #3.\n",
        "            result = tree[key][query[key]]\n",
        "            #4.\n",
        "            if isinstance(result,dict):\n",
        "                return predict(query,result, default)\n",
        "\n",
        "            else:\n",
        "                return result"
      ],
      "execution_count": 13,
      "outputs": []
    },
    {
      "cell_type": "code",
      "metadata": {
        "id": "G9sTvJh-0zMk"
      },
      "source": [
        "def test(data,tree, mean_data):\n",
        "    #Create new query instances by simply removing the target feature column from the original dataset and \n",
        "    #convert it to a dictionary\n",
        "    queries = data.iloc[:, :-1].to_dict(orient = \"records\")\n",
        "\n",
        "    #Create a empty DataFrame in whose columns the prediction of the tree are stored\n",
        "    predicted = []\n",
        "\n",
        "    #Calculate the prediction accuracy\n",
        "    for i in range(len(data)):\n",
        "        predicted.append(predict(queries[i],tree,mean_data)) \n",
        "    RMSE = np.sqrt(np.sum(((data.iloc[:,-1]-predicted)**2)/len(data)))\n",
        "    return RMSE"
      ],
      "execution_count": 14,
      "outputs": []
    },
    {
      "cell_type": "markdown",
      "metadata": {
        "id": "xZ37Y5KQyVG2"
      },
      "source": [
        "# Running the Code"
      ]
    },
    {
      "cell_type": "code",
      "metadata": {
        "colab": {
          "base_uri": "https://localhost:8080/"
        },
        "id": "6JfnrmqMyfX2",
        "outputId": "2e2e1537-dd71-407e-ca12-f0a3580b45dd"
      },
      "source": [
        "mean_data1 = np.mean(dataset1.iloc[:,-1])\n",
        "mean_data2 = np.mean(dataset2.iloc[:,-1])\n",
        "\n",
        "averageRMSE1 = []\n",
        "averageRMSE2 = []\n",
        "\n",
        "for i in range(10):\n",
        "  X_train, X_test, y_train, y_test = train_test_split(dataset1.iloc[:, :-1], dataset1.iloc[:, -1], test_size = 0.3, shuffle=True)\n",
        "  train_data = pd.concat([X_train, y_train], axis =1)\n",
        "  test_data = pd.concat([X_test, y_test], axis =1)\n",
        "\n",
        "  features = train_data.columns[:-1]\n",
        "  tree = ID3(train_data, train_data, features, 3, 10)\n",
        "  averageRMSE1.append(test(test_data,tree, mean_data1))\n",
        "\n",
        "print(\"\\t\\t\\tEnjoySport\\n\")\n",
        "pprint(tree)\n",
        "print(\"\\nAverage root mean square error (RMSE) for EnjoySport:\" , u\"\\u00B1 STD = %.2f\" % np.mean(averageRMSE1), u\"\\u00B1 %.2f\" % STD(averageRMSE1) ,\"\\n\\n\")\n",
        "\n",
        "for i in range(10):\n",
        "  X_train, X_test, y_train, y_test = train_test_split(dataset2.iloc[:, :-1], dataset2.iloc[:, -1], test_size = 0.3, shuffle=True)\n",
        "  train_data = pd.concat([X_train, y_train], axis =1)\n",
        "  test_data = pd.concat([X_test, y_test], axis =1)\n",
        "\n",
        "  features = train_data.columns[:-1]\n",
        "  tree = ID3(train_data, train_data, features, 5, 10)\n",
        "  averageRMSE2.append(test(test_data,tree, mean_data2))\n",
        "\n",
        "print(\"-\"*100)\n",
        "print(\"\\t\\t\\t\\tAutomobile\\n\")\n",
        "pprint(tree)\n",
        "print(\"\\nAverage root mean square error (RMSE) for Automobile:\" , u\"\\u00B1 STD = %.2f\" % np.mean(averageRMSE2), u\"\\u00B1 %.2f\" % STD(averageRMSE2))"
      ],
      "execution_count": 15,
      "outputs": [
        {
          "output_type": "stream",
          "text": [
            "\t\t\tEnjoySport\n",
            "\n",
            "{0: {'Overcast': 47.333333333333336,\n",
            "     'Rainy': {1: {'Cool': 38.0, 'Hot': 27.5, 'Mild': 35.0}},\n",
            "     'Sunny': 41.0}}\n",
            "\n",
            "Average root mean square error (RMSE) for EnjoySport: ± STD = 12.22 ± 3.21 \n",
            "\n",
            "\n",
            "----------------------------------------------------------------------------------------------------\n",
            "\t\t\t\tAutomobile\n",
            "\n",
            "{1: {'alfa-romero': 15498.333333333334,\n",
            "     'audi': 19348.333333333332,\n",
            "     'bmw': {9: {'four': 16677.5, 'six': 28967.0}},\n",
            "     'dodge': {0: {-1.0: 8921.0, 1.0: 6565.4, 3.0: 12964.0}},\n",
            "     'honda': {10: {'1bbl': {0: {0.0: 8565.0, 1.0: 5964.0, 2.0: 6855.0}},\n",
            "                    'mpfi': 12945.0}},\n",
            "     'isuzu': 8916.5,\n",
            "     'jaguar': 32250.0,\n",
            "     'mazda': {6: {'fwd': {0: {0.0: 9995.0,\n",
            "                               1.0: {4: {'four': 7045.0, 'two': 7682.5}}}},\n",
            "                   'rwd': 18280.0}},\n",
            "     'mercedes-benz': 32486.4,\n",
            "     'mitsubishi': {0: {1.0: 7985.666666666667, 2.0: 6029.0, 3.0: 11489.0}},\n",
            "     'nissan': {10: {'2bbl': {0: {0.0: 9249.0,\n",
            "                                  1.0: 6332.333333333333,\n",
            "                                  2.0: 8249.0}},\n",
            "                     'idi': 7099.0,\n",
            "                     'mpfi': 15399.0}},\n",
            "     'peugot': {3: {'std': 14416.25, 'turbo': 17666.666666666668}},\n",
            "     'plymouth': {0: {-1.0: 8921.0, 1.0: 7121.75, 3.0: 12764.0}},\n",
            "     'porsche': 34028.0,\n",
            "     'renault': 9295.0,\n",
            "     'saab': 15326.666666666666,\n",
            "     'subaru': {10: {'2bbl': {5: {'hatchback': 6591.333333333333,\n",
            "                                  'sedan': 8044.666666666667,\n",
            "                                  'wagon': 7738.0}},\n",
            "                     'mpfi': 10609.5}},\n",
            "     'toyota': {0: {-1.0: {6: {'fwd': 10356.0, 'rwd': 15720.0}},\n",
            "                    0.0: 8005.5,\n",
            "                    1.0: {6: {'fwd': 5843.0, 'rwd': 8783.0}},\n",
            "                    2.0: 12124.0,\n",
            "                    3.0: 16558.0}},\n",
            "     'volkswagen': {0: {0.0: 13143.333333333334, 2.0: 8287.0, 3.0: 9980.0}},\n",
            "     'volvo': {3: {'std': 16088.75, 'turbo': 20772.5}}}}\n",
            "\n",
            "Average root mean square error (RMSE) for Automobile: ± STD = 3743.74 ± 449.92\n"
          ],
          "name": "stdout"
        }
      ]
    },
    {
      "cell_type": "markdown",
      "metadata": {
        "id": "7SNtDAo1Rd60"
      },
      "source": [
        "# Plotting the result"
      ]
    },
    {
      "cell_type": "code",
      "metadata": {
        "colab": {
          "base_uri": "https://localhost:8080/",
          "height": 325
        },
        "id": "-mfa4djPRr18",
        "outputId": "55d365dd-a3af-4db6-8b09-ccbf039bfbfb"
      },
      "source": [
        "\"\"\"\n",
        "Plot the MSE with respect to the minimum number of instances\n",
        "\"\"\" \n",
        "fig = plt.figure()\n",
        "ax0 = fig.add_subplot(111) \n",
        "\n",
        "RMSE_test = []\n",
        "RMSE_train = []\n",
        "for i in range(1,50):\n",
        "    tree = ID3(train_data,train_data,train_data.columns[:-1],i,10)\n",
        "    RMSE_test.append(test(test_data,tree,mean_data2)) \n",
        "    RMSE_train.append(test(train_data,tree,mean_data2))\n",
        "   \n",
        "ax0.plot(range(1,50),RMSE_test,label='Test_Data')\n",
        "ax0.plot(range(1,50),RMSE_train,label='Train_Data')\n",
        "ax0.legend()\n",
        "ax0.set_title('RMSE with respect to the minumim number of instances per node')\n",
        "ax0.set_xlabel('#Instances')\n",
        "ax0.set_ylabel('RMSE')\n",
        "plt.show()"
      ],
      "execution_count": 16,
      "outputs": [
        {
          "output_type": "display_data",
          "data": {
            "image/png": "[encoded data removed]",
            "text/plain": [
              "<Figure size 432x288 with 1 Axes>"
            ]
          },
          "metadata": {
            "tags": []
          }
        }
      ]
    }
  ]
}